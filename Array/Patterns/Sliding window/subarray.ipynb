{
 "cells": [
  {
   "cell_type": "code",
   "execution_count": 3,
   "id": "be3910d6",
   "metadata": {},
   "outputs": [
    {
     "name": "stdout",
     "output_type": "stream",
     "text": [
      "9\n"
     ]
    }
   ],
   "source": [
    "def sub_array_of_size_k(nums,k):\n",
    "    window_sum = 0\n",
    "    max_sum = float('-inf')\n",
    "    window_start = 0\n",
    "\n",
    "    for window_end in range(len(nums)):\n",
    "        window_sum += nums[window_end]\n",
    "\n",
    "        if window_end >= k - 1:\n",
    "            max_sum = max(max_sum, window_sum)\n",
    "            window_sum -= nums[window_start]\n",
    "            window_start += 1\n",
    "\n",
    "    return max_sum\n",
    "    \n",
    "\n",
    "\n",
    "nums = [2, 1, 5, 1, 3, 2]\n",
    "k = 3\n",
    "result = sub_array_of_size_k(nums, k)\n",
    "print(result)"
   ]
  },
  {
   "cell_type": "code",
   "execution_count": null,
   "id": "325adf52",
   "metadata": {},
   "outputs": [
    {
     "name": "stdout",
     "output_type": "stream",
     "text": [
      "Max sum: 51\n",
      "subarray with max sum:[12, -5, -6, 50]\n"
     ]
    },
    {
     "data": {
      "text/plain": [
       "51"
      ]
     },
     "execution_count": 6,
     "metadata": {},
     "output_type": "execute_result"
    }
   ],
   "source": [
    "# Leetcode 643\n",
    "def max_sum_subarrray_of_size_k(nums, k):\n",
    "    max_sum = float('-inf')\n",
    "    window_sum = 0\n",
    "    window_start = 0 # Left boundary of the sliding window\n",
    "    subarray = [] # Create an empty list to hold the result\n",
    "\n",
    "    for window_end in range (len(nums)):  # window_end is the right boundary\n",
    "        window_sum += nums[window_end] # This is the core logic where we add the current element into the running window sum.\n",
    "\n",
    "        if window_end >= k-1: # Wait until the window size is k\n",
    "            if window_sum > max_sum:  # Check if current window has the max sum\n",
    "                max_sum = window_sum # Update max sum\n",
    "                subarray = nums[window_start:window_end + 1] # Save the subarray that gave max sum\n",
    "            window_sum -= nums[window_start] # Shrink window from the left\n",
    "            window_start += 1 # Move left boundary forward\n",
    "\n",
    "\n",
    "    print(f\"Max sum: {max_sum}\") # \tShow the result to the user\n",
    "    print(f\"subarray with max sum:{subarray}\")\n",
    "    return max_sum # Make the value reusable in code\n",
    "\n",
    "nums = [1,12,-5,-6,50,3]\n",
    "k = 4\n",
    "max_sum_subarrray_of_size_k(nums,k)"
   ]
  },
  {
   "cell_type": "code",
   "execution_count": null,
   "id": "4ec931f1",
   "metadata": {},
   "outputs": [],
   "source": [
    "def findMaxAverage(nums, k):\n",
    "    window_sum = sum(nums[:k])  # Initial window sum\n",
    "    max_sum = window_sum\n",
    "\n",
    "    for i in range(k, len(nums)):\n",
    "        window_sum += nums[i] - nums[i - k]  # Slide window forward\n",
    "        max_sum = max(max_sum, window_sum)\n",
    "\n",
    "    return max_sum / k  # Return average\n"
   ]
  },
  {
   "cell_type": "code",
   "execution_count": 10,
   "id": "463c554c",
   "metadata": {},
   "outputs": [
    {
     "name": "stdout",
     "output_type": "stream",
     "text": [
      "30\n",
      "[10, 25, 35, 40, 50, 60]\n"
     ]
    }
   ],
   "source": [
    "arr = [10,20,30,40,50]\n",
    "\n",
    "print(arr[2])\n",
    "arr[1] = 25\n",
    "arr.insert(3,35)\n",
    "arr.remove(30)\n",
    "arr.append(60)\n",
    "print(arr)"
   ]
  },
  {
   "cell_type": "code",
   "execution_count": 11,
   "id": "0125e607",
   "metadata": {},
   "outputs": [
    {
     "name": "stdout",
     "output_type": "stream",
     "text": [
      "10\n",
      "25\n",
      "35\n",
      "40\n",
      "50\n",
      "60\n"
     ]
    }
   ],
   "source": [
    "for item in arr:\n",
    "    print(item)"
   ]
  },
  {
   "cell_type": "code",
   "execution_count": 13,
   "id": "0a6c0de7",
   "metadata": {},
   "outputs": [
    {
     "name": "stdout",
     "output_type": "stream",
     "text": [
      "2\n"
     ]
    }
   ],
   "source": [
    "arr = [1,2,3,4,5]\n",
    "print(arr.index(3))\n"
   ]
  },
  {
   "cell_type": "code",
   "execution_count": 14,
   "id": "9387b036",
   "metadata": {},
   "outputs": [
    {
     "name": "stdout",
     "output_type": "stream",
     "text": [
      "[3, 6, 99, 9, 12]\n"
     ]
    }
   ],
   "source": [
    "arr = [3,6,9,12]\n",
    "arr.insert(2,99)\n",
    "print(arr)"
   ]
  },
  {
   "cell_type": "code",
   "execution_count": 15,
   "id": "11f3bc17",
   "metadata": {},
   "outputs": [
    {
     "name": "stdout",
     "output_type": "stream",
     "text": [
      "Maximum is: 20\n"
     ]
    }
   ],
   "source": [
    "arr = [10, 5, 20, 8]\n",
    "max_val = arr[0]\n",
    "\n",
    "for num in arr:\n",
    "    if num > max_val:\n",
    "        max_val = num\n",
    "\n",
    "print(\"Maximum is:\", max_val)"
   ]
  },
  {
   "cell_type": "code",
   "execution_count": null,
   "id": "c8debb98",
   "metadata": {},
   "outputs": [
    {
     "name": "stdout",
     "output_type": "stream",
     "text": [
      "Maximum is: 9\n"
     ]
    }
   ],
   "source": [
    "arr = [1, 3, 7, 2, 9, 5]\n",
    "max_val = arr[0]\n",
    "\n",
    "for num in arr:\n",
    "    if num > max_val:\n",
    "        max_val = num\n",
    "\n",
    "print(\"Maximum is:\", max_val)"
   ]
  },
  {
   "cell_type": "code",
   "execution_count": 17,
   "id": "5e040221",
   "metadata": {},
   "outputs": [
    {
     "name": "stdout",
     "output_type": "stream",
     "text": [
      "Minimum is: 1\n"
     ]
    }
   ],
   "source": [
    "arr = [6, 4, 9, 1, 5]\n",
    "min_val = arr[0]\n",
    "\n",
    "for num in arr:\n",
    "    if num < min_val:\n",
    "        min_val = num\n",
    "\n",
    "print (\"Minimum is:\", min_val)"
   ]
  },
  {
   "cell_type": "code",
   "execution_count": null,
   "id": "63a1b638",
   "metadata": {},
   "outputs": [],
   "source": []
  }
 ],
 "metadata": {
  "kernelspec": {
   "display_name": "base",
   "language": "python",
   "name": "python3"
  },
  "language_info": {
   "codemirror_mode": {
    "name": "ipython",
    "version": 3
   },
   "file_extension": ".py",
   "mimetype": "text/x-python",
   "name": "python",
   "nbconvert_exporter": "python",
   "pygments_lexer": "ipython3",
   "version": "3.10.9"
  }
 },
 "nbformat": 4,
 "nbformat_minor": 5
}
