{
 "cells": [
  {
   "cell_type": "code",
   "execution_count": 1,
   "id": "65bd6163",
   "metadata": {},
   "outputs": [
    {
     "name": "stdout",
     "output_type": "stream",
     "text": [
      "Maximum is: 9\n"
     ]
    }
   ],
   "source": [
    "# To find maximum\n",
    "\n",
    "arr = [1, 3, 7, 2, 9, 5]\n",
    "max_val = arr[0]\n",
    "\n",
    "for num in arr:\n",
    "    if num > max_val:\n",
    "        max_val = num\n",
    "\n",
    "print(\"Maximum is:\", max_val)"
   ]
  },
  {
   "cell_type": "code",
   "execution_count": 2,
   "id": "3cce6256",
   "metadata": {},
   "outputs": [
    {
     "name": "stdout",
     "output_type": "stream",
     "text": [
      "Minimum is: 1\n"
     ]
    }
   ],
   "source": [
    "# To find minimum\n",
    "\n",
    "arr = [6, 4, 9, 1, 5]\n",
    "min_val = arr[0]\n",
    "\n",
    "for num in arr:\n",
    "    if num < min_val:\n",
    "        min_val = num\n",
    "\n",
    "print (\"Minimum is:\", min_val)"
   ]
  },
  {
   "cell_type": "code",
   "execution_count": 3,
   "id": "eca25445",
   "metadata": {},
   "outputs": [
    {
     "name": "stdout",
     "output_type": "stream",
     "text": [
      "12\n"
     ]
    }
   ],
   "source": [
    "# Calculate sum of array\n",
    "\n",
    "arr = [2, 4, 6]\n",
    "total = 0\n",
    "\n",
    "for num in arr:\n",
    "    total += num\n",
    "\n",
    "print(total)"
   ]
  },
  {
   "cell_type": "code",
   "execution_count": 7,
   "id": "1d152de9",
   "metadata": {},
   "outputs": [
    {
     "name": "stdout",
     "output_type": "stream",
     "text": [
      "[30, 20, 10]\n"
     ]
    }
   ],
   "source": [
    "# reverse an array\n",
    "\n",
    "arr = [10, 20, 30]\n",
    "arr.reverse()\n",
    "print(arr)\n"
   ]
  },
  {
   "cell_type": "code",
   "execution_count": 9,
   "id": "36719458",
   "metadata": {},
   "outputs": [
    {
     "name": "stdout",
     "output_type": "stream",
     "text": [
      "Even 3 Odd 4\n"
     ]
    }
   ],
   "source": [
    "# Count even and odd number\n",
    "\n",
    "arr = [1,2,3,4,5,6,7]\n",
    "even = 0\n",
    "odd = 0\n",
    "\n",
    "for num in arr:\n",
    "    if num %2 == 0:\n",
    "        even += 1\n",
    "    else:\n",
    "        odd += 1\n",
    "\n",
    "print(\"Even\", even, \"Odd\", odd)"
   ]
  },
  {
   "cell_type": "code",
   "execution_count": null,
   "id": "f51bebc6",
   "metadata": {},
   "outputs": [
    {
     "name": "stdout",
     "output_type": "stream",
     "text": [
      "[40, 30, 20, 10]\n"
     ]
    }
   ],
   "source": [
    "# Reverse an array using (Two pointers)\n",
    "\n",
    "arr = [10,20,30,40]\n",
    "\n",
    "left = 0\n",
    "right = len(arr)-1\n",
    "\n",
    "while left < right:\n",
    "    arr[left], arr[right] = arr[right], arr[left]\n",
    "    left += 1\n",
    "    right -= 1\n",
    "\n",
    "print(arr)"
   ]
  },
  {
   "cell_type": "code",
   "execution_count": null,
   "id": "4ea28693",
   "metadata": {},
   "outputs": [
    {
     "name": "stdout",
     "output_type": "stream",
     "text": [
      "Pair found: True\n"
     ]
    }
   ],
   "source": [
    "# Pair sum Problem (finding pairs exist whose sum equals to the target) (Two pointers)\n",
    "\n",
    "arr = [1,3,4,6,7,10]\n",
    "target = 9\n",
    "\n",
    "left = 0\n",
    "right = len(arr)-1\n",
    "found = False\n",
    "\n",
    "while left < right:\n",
    "    current_sum = arr[left] + arr[right]\n",
    "\n",
    "    if current_sum == target:\n",
    "        found = True\n",
    "        break\n",
    "    elif current_sum < target:\n",
    "        left += 1\n",
    "    else:\n",
    "        right -= 1\n",
    "\n",
    "print(\"Pair found:\", found)"
   ]
  },
  {
   "cell_type": "code",
   "execution_count": 22,
   "id": "0912dae3",
   "metadata": {},
   "outputs": [
    {
     "name": "stdout",
     "output_type": "stream",
     "text": [
      "Maximum sum of subarray of size 4 is 39\n"
     ]
    }
   ],
   "source": [
    "# Find the maximum sum of any subarray of size k (Sliding window)\n",
    "\n",
    "arr =[1,4,2,10,23,3,1,0,20]\n",
    "k = 4\n",
    "\n",
    "window_sum = sum(arr[:k])\n",
    "max_sum = window_sum\n",
    "\n",
    "for i in range(k, len(arr)):\n",
    "    window_sum += arr[i] - arr[i-k]\n",
    "    max_sum = max(max_sum, window_sum)\n",
    "\n",
    "print(\"Maximum sum of subarray of size\", k, \"is\", max_sum)\n"
   ]
  },
  {
   "cell_type": "code",
   "execution_count": 3,
   "id": "57995315",
   "metadata": {},
   "outputs": [
    {
     "name": "stdout",
     "output_type": "stream",
     "text": [
      "[10, 20, 30, 40, 50]\n"
     ]
    }
   ],
   "source": [
    "arr = [10, 20, 30, 40, 50]\n",
    "\n",
    "print(arr)"
   ]
  },
  {
   "cell_type": "code",
   "execution_count": 6,
   "id": "f4636865",
   "metadata": {},
   "outputs": [
    {
     "name": "stdout",
     "output_type": "stream",
     "text": [
      "[5, 4, 3, 2, 1]\n"
     ]
    }
   ],
   "source": [
    "# reverse an array \n",
    "def reverse_array(arr):\n",
    "    left = 0\n",
    "    right = len(arr)-1\n",
    "\n",
    "    while left < right:\n",
    "        arr[left], arr[right] = arr[right], arr[left]\n",
    "        left += 1\n",
    "        right -= 1\n",
    "    return arr\n",
    "\n",
    "# Test\n",
    "arr = [1,2,3,4,5]\n",
    "result = reverse_array(arr)\n",
    "print(result) "
   ]
  },
  {
   "cell_type": "code",
   "execution_count": 7,
   "id": "106d95c4",
   "metadata": {},
   "outputs": [
    {
     "name": "stdout",
     "output_type": "stream",
     "text": [
      "[5, 4, 3, 2, 1]\n"
     ]
    }
   ],
   "source": [
    "def reverse_array(arr):\n",
    "    left = 0\n",
    "    right = len(arr)-1\n",
    "\n",
    "    while left < right:\n",
    "        arr[left], arr[right] = arr[right],arr[left]\n",
    "        left += 1\n",
    "        right -= 1\n",
    "    return arr\n",
    "\n",
    "arr = [1,2,3,4,5]\n",
    "result = reverse_array(arr)\n",
    "print(result)\n"
   ]
  },
  {
   "cell_type": "code",
   "execution_count": 16,
   "id": "86377a5b",
   "metadata": {},
   "outputs": [
    {
     "name": "stdout",
     "output_type": "stream",
     "text": [
      "* \n",
      "* * \n",
      "* * * \n",
      "* * * * \n",
      "* * * * * \n"
     ]
    }
   ],
   "source": [
    "for i in range (1,6):\n",
    "    for j in range(i):\n",
    "        print(\"*\", end=\" \")\n",
    "    print()"
   ]
  },
  {
   "cell_type": "code",
   "execution_count": 17,
   "id": "9deb85fa",
   "metadata": {},
   "outputs": [
    {
     "name": "stdout",
     "output_type": "stream",
     "text": [
      "******\n",
      "******\n",
      "******\n",
      "******\n",
      "\n"
     ]
    }
   ],
   "source": [
    "def rectangle_pattern(n, m):\n",
    "    pattern = \"\"\n",
    "    for i in range(n):\n",
    "        pattern += \"*\" * m + \"\\n\"\n",
    "    return pattern\n",
    "\n",
    "# Example usage\n",
    "n = 4\n",
    "m = 6\n",
    "print(rectangle_pattern(n, m))\n"
   ]
  },
  {
   "cell_type": "code",
   "execution_count": 19,
   "id": "5fd5e320",
   "metadata": {},
   "outputs": [
    {
     "name": "stdout",
     "output_type": "stream",
     "text": [
      "Max: 15\n",
      "Min: 2\n"
     ]
    }
   ],
   "source": [
    "def max_min(arr):\n",
    "    if not arr:\n",
    "        return None, None\n",
    "    \n",
    "    max_val = arr[0]\n",
    "    min_val = arr[0]\n",
    "\n",
    "    for num in arr:\n",
    "        if num > max_val:\n",
    "            max_val = num\n",
    "        if num < min_val:\n",
    "            min_val = num\n",
    "\n",
    "    return max_val, min_val\n",
    "\n",
    "#Test\n",
    "arr = [2,5,7,9,15]\n",
    "max_num, min_num = max_min(arr)\n",
    "print(\"Max:\", max_num)\n",
    "print(\"Min:\", min_num)"
   ]
  },
  {
   "cell_type": "markdown",
   "id": "e89e1df7",
   "metadata": {},
   "source": [
    "# linear search"
   ]
  },
  {
   "cell_type": "code",
   "execution_count": null,
   "id": "839088cb",
   "metadata": {},
   "outputs": [
    {
     "name": "stdout",
     "output_type": "stream",
     "text": [
      "Target found at index: 2\n"
     ]
    }
   ],
   "source": [
    "# Given an array and a target, return the index of the target if it is found, if not return -1 ?\n",
    "\n",
    "def linear_search(arr, target):\n",
    "    for i in range(len(arr)):\n",
    "        if arr[i]==target:\n",
    "            return i\n",
    "    return -1\n",
    "\n",
    "arr = [2,4,6,8,9]\n",
    "target = 6\n",
    "result = linear_search(arr, target)\n",
    "print(\"Target found at index:\",result)"
   ]
  },
  {
   "cell_type": "code",
   "execution_count": null,
   "id": "5800cff0",
   "metadata": {},
   "outputs": [
    {
     "name": "stdout",
     "output_type": "stream",
     "text": [
      "Number of time element count: {2: 3, 3: 3, 5: 2, 6: 1, 4: 1}\n"
     ]
    }
   ],
   "source": [
    "# Given an array of integers, count how many times each element appeard ?\n",
    "\n",
    "def count_frequency(arr):\n",
    "    map = {} # Create an empty  dict\n",
    "\n",
    "    for num in arr:\n",
    "        if num in map:\n",
    "            map[num] += 1\n",
    "        else:\n",
    "            map[num] = 1\n",
    "        \n",
    "    return map\n",
    "\n",
    "arr = [2,3,2,3,2,5,3,6,4,5]\n",
    "result = count_frequency(arr)\n",
    "print(\"Number of time element count:\", result)"
   ]
  },
  {
   "cell_type": "markdown",
   "id": "76f2ff44",
   "metadata": {},
   "source": [
    "# Binary Search"
   ]
  },
  {
   "cell_type": "code",
   "execution_count": 12,
   "id": "6bb3a430",
   "metadata": {},
   "outputs": [
    {
     "name": "stdout",
     "output_type": "stream",
     "text": [
      "Target found at index: 2\n"
     ]
    }
   ],
   "source": [
    "# Given an sorted array and a target element return the index of the target if found otherwise retrun -1 ?\n",
    "\n",
    "def binary_search(arr, target):\n",
    "    left = 0\n",
    "    right = len(arr)-1\n",
    "\n",
    "    while left <= right:\n",
    "        mid = (left + right) // 2\n",
    "\n",
    "        if arr[mid] == target:\n",
    "            return mid\n",
    "        elif target < arr[mid]:\n",
    "            right = mid - 1\n",
    "        else:\n",
    "            left = mid + 1\n",
    "\n",
    "    return -1\n",
    "\n",
    "arr = [1,3,5,7,9]\n",
    "target = 5\n",
    "result = binary_search(arr, target)\n",
    "print(\"Target found at index:\", result)"
   ]
  },
  {
   "cell_type": "markdown",
   "id": "b70fee6f",
   "metadata": {},
   "source": [
    "# Sorting\n"
   ]
  },
  {
   "cell_type": "markdown",
   "id": "12dc40cd",
   "metadata": {},
   "source": [
    "### Bubble sort"
   ]
  },
  {
   "cell_type": "code",
   "execution_count": 15,
   "id": "732f5870",
   "metadata": {},
   "outputs": [
    {
     "name": "stdout",
     "output_type": "stream",
     "text": [
      "Sorted array: [1, 3, 7, 9, 10]\n"
     ]
    }
   ],
   "source": [
    "def bubble_sort(arr):\n",
    "    n = len(arr)\n",
    "\n",
    "    for i in range(n):\n",
    "        swapped = False\n",
    "\n",
    "        for j in range(0, n-i-1):\n",
    "            if arr[j] > arr[j+1]:\n",
    "                arr[j],arr[j+1] = arr[j+1],arr[j]\n",
    "                swapped = True\n",
    "\n",
    "        if not swapped:\n",
    "            break\n",
    "\n",
    "    return arr\n",
    "\n",
    "arr = [10, 7, 3, 1, 9]\n",
    "result = bubble_sort(arr)\n",
    "print(\"Sorted array:\", result)"
   ]
  },
  {
   "cell_type": "markdown",
   "id": "160631ef",
   "metadata": {},
   "source": [
    "## Selection sort"
   ]
  },
  {
   "cell_type": "code",
   "execution_count": 17,
   "id": "be61b477",
   "metadata": {},
   "outputs": [
    {
     "name": "stdout",
     "output_type": "stream",
     "text": [
      "Sorted array: [11, 12, 22, 25, 64]\n"
     ]
    }
   ],
   "source": [
    "def selection_sort(arr):\n",
    "    n = len(arr)\n",
    "\n",
    "    for i in range(n):\n",
    "        min_index = i\n",
    "\n",
    "        for j in range(i + 1, n):\n",
    "            if arr[j] < arr[min_index]:\n",
    "                min_index = j\n",
    "\n",
    "        arr[i], arr[min_index] = arr[min_index], arr[i]\n",
    "\n",
    "    return arr\n",
    "\n",
    "arr = [64, 25, 12, 22, 11]\n",
    "result = selection_sort(arr)\n",
    "print(\"Sorted array:\", result)"
   ]
  },
  {
   "cell_type": "markdown",
   "id": "9ec41bf7",
   "metadata": {},
   "source": [
    "# Two-Pointers"
   ]
  },
  {
   "cell_type": "code",
   "execution_count": null,
   "id": "05e99d4f",
   "metadata": {},
   "outputs": [
    {
     "name": "stdout",
     "output_type": "stream",
     "text": [
      "Has the pair sum: True\n"
     ]
    }
   ],
   "source": [
    "# Given a sorted array of integers and a target sum, find if there exists a pair of numbers whose sum is equal to the target. 📌 Return True if such a pair exists, else False.\n",
    "\n",
    "def has_pair_sum(arr, target):\n",
    "    left = 0\n",
    "    right = len(arr)-1\n",
    "\n",
    "    while left < right:\n",
    "        current_sum = arr[left] + arr[right]\n",
    "\n",
    "        if current_sum == target:\n",
    "            return True\n",
    "        elif current_sum < target:\n",
    "            left += 1\n",
    "        else:\n",
    "            right -= 1\n",
    "\n",
    "    return False\n",
    "\n",
    "arr = [1,2,3,4,6]\n",
    "target = 7\n",
    "result = has_pair_sum(arr, target)\n",
    "print(\"Has the pair sum:\",result)"
   ]
  },
  {
   "cell_type": "code",
   "execution_count": 1,
   "id": "6c9e9229",
   "metadata": {},
   "outputs": [
    {
     "name": "stdout",
     "output_type": "stream",
     "text": [
      "After moving zeros: [1, 3, 12, 0, 0]\n"
     ]
    }
   ],
   "source": [
    "# Given an array of integers, move all the zeros to the end of the array while maintaining the relative order of non-zero elements. 📌 You must do this in-place (i.e., modify the original array), using constant extra space.?\n",
    "\n",
    "\n",
    "def move_zeros(arr):\n",
    "    non_zero_pos = 0\n",
    "\n",
    "    for i in range(len(arr)):\n",
    "        if arr[i] != 0:\n",
    "            arr[non_zero_pos], arr[i] = arr[i], arr[non_zero_pos]\n",
    "            non_zero_pos += 1\n",
    "\n",
    "    return arr\n",
    "\n",
    "arr = [0,1,0,3,12]\n",
    "result = move_zeros(arr)\n",
    "print(\"After moving zeros:\", result)\n"
   ]
  },
  {
   "cell_type": "code",
   "execution_count": null,
   "id": "13f44247",
   "metadata": {},
   "outputs": [],
   "source": []
  }
 ],
 "metadata": {
  "kernelspec": {
   "display_name": "base",
   "language": "python",
   "name": "python3"
  },
  "language_info": {
   "codemirror_mode": {
    "name": "ipython",
    "version": 3
   },
   "file_extension": ".py",
   "mimetype": "text/x-python",
   "name": "python",
   "nbconvert_exporter": "python",
   "pygments_lexer": "ipython3",
   "version": "3.10.9"
  }
 },
 "nbformat": 4,
 "nbformat_minor": 5
}
