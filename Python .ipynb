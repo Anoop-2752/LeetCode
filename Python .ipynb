{
 "cells": [
  {
   "cell_type": "markdown",
   "id": "53c5026e",
   "metadata": {},
   "source": [
    "# Conditions(if, elif, else)"
   ]
  },
  {
   "cell_type": "code",
   "execution_count": null,
   "id": "19d7d647",
   "metadata": {},
   "outputs": [
    {
     "name": "stdout",
     "output_type": "stream",
     "text": [
      "Access Granted\n"
     ]
    }
   ],
   "source": [
    "# Take a username and password, check if both match, and print \"Access Granted\".\n",
    "\n",
    "correct_username = \"admin\"\n",
    "correct_password = \"1234\"\n",
    "\n",
    "username = input(\"Enter Username:\")\n",
    "password = input(\"Enter Password\")\n",
    "\n",
    "if username == correct_username and password == correct_password:\n",
    "    print(\"Access Granted\")\n",
    "else:\n",
    "    print(\"Access Denided\")"
   ]
  },
  {
   "cell_type": "code",
   "execution_count": null,
   "id": "d76d0bb3",
   "metadata": {},
   "outputs": [
    {
     "name": "stdout",
     "output_type": "stream",
     "text": [
      "negative\n"
     ]
    }
   ],
   "source": [
    "#Write a program to check if a number is positive, negative, or zero.\n",
    "\n",
    "\n",
    "num = int (input(\"Enter a number\"))\n",
    "\n",
    "if num > 0:\n",
    "    print(\"Poitive\")\n",
    "elif num < 0:\n",
    "    print(\"negative\")\n",
    "else:\n",
    "    print(\"Zero\")"
   ]
  },
  {
   "cell_type": "code",
   "execution_count": 9,
   "id": "a4a46c4a",
   "metadata": {},
   "outputs": [
    {
     "name": "stdout",
     "output_type": "stream",
     "text": [
      "Entry alloded\n"
     ]
    }
   ],
   "source": [
    "age  = 18\n",
    "has_id = True\n",
    "\n",
    "if age >= 18 and has_id:\n",
    "    print(\"Entry alloded\")\n",
    "else:\n",
    "    print(\"Entry denided\")"
   ]
  },
  {
   "cell_type": "code",
   "execution_count": 11,
   "id": "630e1d45",
   "metadata": {},
   "outputs": [
    {
     "name": "stdout",
     "output_type": "stream",
     "text": [
      "num1 is smaller\n"
     ]
    }
   ],
   "source": [
    "num1 = int(input(\"Enter first number\"))\n",
    "num2 = int(input(\"Enter second number\"))\n",
    "\n",
    "if num1 > num2:\n",
    "    print(\"num2 is Greater\")\n",
    "elif num1 < num2:\n",
    "    print(\"num1 is smaller\")\n",
    "else:\n",
    "\n",
    "    print(\"Both are equal\")\n",
    "\n"
   ]
  },
  {
   "cell_type": "code",
   "execution_count": 12,
   "id": "eaf8f2ec",
   "metadata": {},
   "outputs": [
    {
     "name": "stdout",
     "output_type": "stream",
     "text": [
      "Fizz\n"
     ]
    }
   ],
   "source": [
    "num = int(input(\"Enter a Number\"))\n",
    "\n",
    "if num % 3 == 0 and num %5 == 0:\n",
    "    print(\"FizzBuzz\")\n",
    "elif num %3 == 0:\n",
    "    print(\"Fizz\")\n",
    "elif num %5 == 0:\n",
    "    print(\"Buzz\")\n",
    "else:\n",
    "    print(\"not divisible\")"
   ]
  },
  {
   "cell_type": "code",
   "execution_count": 15,
   "id": "24ea3bd7",
   "metadata": {},
   "outputs": [
    {
     "name": "stdout",
     "output_type": "stream",
     "text": [
      "Not a Leap year\n"
     ]
    }
   ],
   "source": [
    "year = int(input(\"Enter a year\"))\n",
    "\n",
    "if (year % 4 == 0) and (year % 100 != 0 or year % 400 == 0):\n",
    "    print(\"leap year\")\n",
    "else:\n",
    "    print(\"Not a Leap year\")\n"
   ]
  },
  {
   "cell_type": "code",
   "execution_count": null,
   "id": "fa29cb62",
   "metadata": {},
   "outputs": [
    {
     "name": "stdout",
     "output_type": "stream",
     "text": [
      "Odd\n"
     ]
    }
   ],
   "source": [
    "num = int(input(\"Enter a number\"))\n",
    "\n",
    "if num %2 == 0:\n",
    "    print(\"The number is Even\")\n",
    "else:\n",
    "    print(\"The number is Odd\")"
   ]
  },
  {
   "cell_type": "code",
   "execution_count": 7,
   "id": "9e4e07b9",
   "metadata": {},
   "outputs": [
    {
     "name": "stdout",
     "output_type": "stream",
     "text": [
      "You can Vote\n"
     ]
    }
   ],
   "source": [
    "age = int(input(\"Enter Your Age\"))\n",
    "\n",
    "if age >= 18:\n",
    "    print(\"You can Vote\")\n",
    "else:\n",
    "    print(\"You cannot vote\")"
   ]
  },
  {
   "cell_type": "code",
   "execution_count": 10,
   "id": "80544938",
   "metadata": {},
   "outputs": [
    {
     "name": "stdout",
     "output_type": "stream",
     "text": [
      "The number is zero\n"
     ]
    }
   ],
   "source": [
    "num = int(input(\"Enter a number\"))\n",
    "\n",
    "if num > 0:\n",
    "    print(\"The number is positive\")\n",
    "elif num < 0:\n",
    "    print(\"The number is negative\")\n",
    "else:\n",
    "    print(\"The number is zero\")"
   ]
  },
  {
   "cell_type": "markdown",
   "id": "90a46cad",
   "metadata": {},
   "source": [
    "# Loops (while, for)"
   ]
  },
  {
   "cell_type": "code",
   "execution_count": 12,
   "id": "e1000cc0",
   "metadata": {},
   "outputs": [
    {
     "name": "stdout",
     "output_type": "stream",
     "text": [
      "Hello 1\n",
      "Hello 2\n",
      "Hello 3\n",
      "Hello 4\n",
      "Hello 5\n"
     ]
    }
   ],
   "source": [
    "count = 1\n",
    "\n",
    "while count <= 5:\n",
    "    print(\"Hello\", count)\n",
    "    count += 1"
   ]
  },
  {
   "cell_type": "code",
   "execution_count": 13,
   "id": "5c997699",
   "metadata": {},
   "outputs": [
    {
     "name": "stdout",
     "output_type": "stream",
     "text": [
      "num 1\n",
      "num 2\n",
      "num 3\n",
      "num 4\n",
      "num 5\n",
      "num 6\n",
      "num 7\n",
      "num 8\n",
      "num 9\n",
      "num 10\n"
     ]
    }
   ],
   "source": [
    "count = 1\n",
    "\n",
    "while count<=10:\n",
    "    print(\"num\",count)\n",
    "    count += 1"
   ]
  },
  {
   "cell_type": "code",
   "execution_count": 3,
   "id": "8e63d496",
   "metadata": {},
   "outputs": [
    {
     "name": "stdout",
     "output_type": "stream",
     "text": [
      "10\n",
      "9\n",
      "8\n",
      "7\n",
      "6\n",
      "5\n",
      "4\n",
      "3\n",
      "2\n",
      "1\n",
      "Liftoff!\n"
     ]
    }
   ],
   "source": [
    "count = 10\n",
    "\n",
    "while count >= 1:\n",
    "    print(count)\n",
    "    count -= 1\n",
    "print(\"Liftoff!\")"
   ]
  },
  {
   "cell_type": "code",
   "execution_count": 6,
   "id": "5fa2a43b",
   "metadata": {},
   "outputs": [
    {
     "name": "stdout",
     "output_type": "stream",
     "text": [
      "Try again\n",
      "Try again\n",
      "Try again\n",
      "Game over\n"
     ]
    }
   ],
   "source": [
    "lives = 3\n",
    "\n",
    "while lives > 0:\n",
    "    print(\"Try again\")\n",
    "    lives -= 1\n",
    "print(\"Game over\")"
   ]
  },
  {
   "cell_type": "code",
   "execution_count": 7,
   "id": "43fc5fcc",
   "metadata": {},
   "outputs": [
    {
     "name": "stdout",
     "output_type": "stream",
     "text": [
      "1\n",
      "2\n",
      "3\n",
      "4\n",
      "5\n"
     ]
    }
   ],
   "source": [
    "for i in range(1,6):\n",
    "    print(i)"
   ]
  },
  {
   "cell_type": "code",
   "execution_count": 8,
   "id": "549fdb69",
   "metadata": {},
   "outputs": [
    {
     "name": "stdout",
     "output_type": "stream",
     "text": [
      "python\n",
      "python\n",
      "python\n",
      "python\n",
      "python\n"
     ]
    }
   ],
   "source": [
    "for i in range(1,6):\n",
    "    print(\"python\")"
   ]
  },
  {
   "cell_type": "code",
   "execution_count": 10,
   "id": "2a7fdd79",
   "metadata": {},
   "outputs": [
    {
     "name": "stdout",
     "output_type": "stream",
     "text": [
      "2\n",
      "4\n",
      "6\n",
      "8\n",
      "10\n",
      "12\n",
      "14\n",
      "16\n",
      "18\n",
      "20\n"
     ]
    }
   ],
   "source": [
    "for i in range(1,21):\n",
    "    if i %2 == 0:\n",
    "        print(i)"
   ]
  },
  {
   "cell_type": "code",
   "execution_count": 13,
   "id": "effdd0fd",
   "metadata": {},
   "outputs": [
    {
     "name": "stdout",
     "output_type": "stream",
     "text": [
      "P\n",
      "y\n",
      "t\n",
      "h\n",
      "o\n",
      "n\n"
     ]
    }
   ],
   "source": [
    "word = \"Python\"\n",
    "\n",
    "for char in word:\n",
    "    print(char)"
   ]
  },
  {
   "cell_type": "code",
   "execution_count": 22,
   "id": "f5687011",
   "metadata": {},
   "outputs": [
    {
     "name": "stdout",
     "output_type": "stream",
     "text": [
      "vowel count: 6\n",
      "vowel found: ['a', 'i', 'e', 'e', 'a', 'i']\n"
     ]
    }
   ],
   "source": [
    "word = \"machinelearning\"\n",
    "count = 0\n",
    "vowel_found = []\n",
    "\n",
    "for char in word:\n",
    "    if char in 'aeiou':\n",
    "        count += 1\n",
    "        vowel_found.append(char)\n",
    "\n",
    "print(\"vowel count:\", count)\n",
    "print(\"vowel found:\", vowel_found)"
   ]
  },
  {
   "cell_type": "markdown",
   "id": "4434698a",
   "metadata": {},
   "source": [
    "# Functions"
   ]
  },
  {
   "cell_type": "code",
   "execution_count": 25,
   "id": "a781dc11",
   "metadata": {},
   "outputs": [
    {
     "name": "stdout",
     "output_type": "stream",
     "text": [
      "Hello Sir\n"
     ]
    }
   ],
   "source": [
    "def greet():\n",
    "    print(\"Hello Sir\")\n",
    "\n",
    "greet()"
   ]
  },
  {
   "cell_type": "code",
   "execution_count": null,
   "id": "bc1ede20",
   "metadata": {},
   "outputs": [
    {
     "name": "stdout",
     "output_type": "stream",
     "text": [
      "Welcome to python Functions!\n"
     ]
    }
   ],
   "source": [
    "# Witout parameters\n",
    "def welcome():\n",
    "    print(\"Welcome to python Functions!\")\n",
    "\n",
    "welcome()"
   ]
  },
  {
   "cell_type": "code",
   "execution_count": 27,
   "id": "53c867e9",
   "metadata": {},
   "outputs": [
    {
     "name": "stdout",
     "output_type": "stream",
     "text": [
      "Hello Anoop\n",
      "Hello Elon\n"
     ]
    }
   ],
   "source": [
    "# with parameters\n",
    "\n",
    "def greet(name):\n",
    "    print(\"Hello\", name)\n",
    "\n",
    "greet(\"Anoop\")\n",
    "greet(\"Elon\")"
   ]
  },
  {
   "cell_type": "code",
   "execution_count": 28,
   "id": "fbdd7c37",
   "metadata": {},
   "outputs": [
    {
     "name": "stdout",
     "output_type": "stream",
     "text": [
      "8\n",
      "30\n"
     ]
    }
   ],
   "source": [
    "def add_numbers(a, b):\n",
    "    print(a+b)\n",
    "\n",
    "add_numbers(3,5)\n",
    "add_numbers(10,20)"
   ]
  },
  {
   "cell_type": "markdown",
   "id": "a8adb011",
   "metadata": {},
   "source": [
    "\"We use return in a function when we want to send the result back to the caller so it can be stored, reused, or processed further. On the other hand, print() only displays the result on screen and is mainly used for debugging or user messages. In professional code, return is essential for functional logic and testing.\""
   ]
  },
  {
   "cell_type": "code",
   "execution_count": 29,
   "id": "432c5110",
   "metadata": {},
   "outputs": [
    {
     "name": "stdout",
     "output_type": "stream",
     "text": [
      "sum is: 10\n"
     ]
    }
   ],
   "source": [
    "def add_numbers(a, b):\n",
    "    return a + b\n",
    "\n",
    "result = add_numbers(4,6)\n",
    "print(\"sum is:\", result)"
   ]
  },
  {
   "cell_type": "code",
   "execution_count": 32,
   "id": "71930a82",
   "metadata": {},
   "outputs": [
    {
     "name": "stdout",
     "output_type": "stream",
     "text": [
      "The result is: 8\n",
      "The result is: 30\n"
     ]
    }
   ],
   "source": [
    "def add_numbers(a, b):\n",
    "    return a + b\n",
    "\n",
    "result = add_numbers(3,5)\n",
    "print(\"The result is:\",result)\n",
    "\n",
    "result2 = add_numbers(10,20)\n",
    "print(\"The result is:\",result2)"
   ]
  },
  {
   "cell_type": "code",
   "execution_count": null,
   "id": "aa0fe0c1",
   "metadata": {},
   "outputs": [
    {
     "name": "stdout",
     "output_type": "stream",
     "text": [
      "You can vote\n"
     ]
    }
   ],
   "source": [
    "# Multiple return statements\n",
    "def can_vote(age):\n",
    "    if age >= 18:\n",
    "        return(\"You can vote\")\n",
    "    else:\n",
    "        return(\"You cannot vote\")\n",
    "    \n",
    "result = can_vote(19)\n",
    "print(result)"
   ]
  },
  {
   "cell_type": "code",
   "execution_count": null,
   "id": "cf1c1f0b",
   "metadata": {},
   "outputs": [
    {
     "name": "stdout",
     "output_type": "stream",
     "text": [
      "Hello guest\n",
      "Hello Anoop\n"
     ]
    }
   ],
   "source": [
    "# Using Default parameter\n",
    "def greet(name = \"guest\"):\n",
    "    print(\"Hello\", name)\n",
    "\n",
    "greet()\n",
    "greet(\"Anoop\")"
   ]
  },
  {
   "cell_type": "code",
   "execution_count": 43,
   "id": "dd98887d",
   "metadata": {},
   "outputs": [
    {
     "name": "stdout",
     "output_type": "stream",
     "text": [
      "20\n",
      "5\n"
     ]
    }
   ],
   "source": [
    "def area(length, bredth = 1):\n",
    "    return length * bredth\n",
    "\n",
    "print(area(5, 4))\n",
    "print(area(5))\n"
   ]
  },
  {
   "cell_type": "code",
   "execution_count": 2,
   "id": "2190bf91",
   "metadata": {},
   "outputs": [
    {
     "name": "stdout",
     "output_type": "stream",
     "text": [
      "(15, 5)\n"
     ]
    }
   ],
   "source": [
    "def calculator(a,b):\n",
    "    return a+b, a-b\n",
    "\n",
    "result = calculator(10,5)\n",
    "print(result)"
   ]
  },
  {
   "cell_type": "code",
   "execution_count": 4,
   "id": "a0250380",
   "metadata": {},
   "outputs": [
    {
     "name": "stdout",
     "output_type": "stream",
     "text": [
      "(9, 20)\n"
     ]
    }
   ],
   "source": [
    "def get_stats(a, b):\n",
    "    return a+b, a*b\n",
    "\n",
    "result = get_stats(4, 5)\n",
    "print(result)"
   ]
  },
  {
   "cell_type": "code",
   "execution_count": 5,
   "id": "bc984fa5",
   "metadata": {},
   "outputs": [
    {
     "name": "stdout",
     "output_type": "stream",
     "text": [
      "Sum is: 9\n",
      "Product is: 20\n"
     ]
    }
   ],
   "source": [
    "sum_, diff  = get_stats(4, 5)\n",
    "print(\"Sum is:\", sum_)\n",
    "print(\"Product is:\", diff)"
   ]
  },
  {
   "cell_type": "code",
   "execution_count": 8,
   "id": "951d4a0a",
   "metadata": {},
   "outputs": [
    {
     "name": "stdout",
     "output_type": "stream",
     "text": [
      "Welcome Anoop\n",
      "Hello Anoop\n",
      "Good morning Anoop\n"
     ]
    }
   ],
   "source": [
    "def greet(name, message):\n",
    "    print(message, name)\n",
    "\n",
    "greet(\"Anoop\", \"Welcome\")\n",
    "greet(name = \"Anoop\", message = \"Hello\")\n",
    "greet(message=\"Good morning\", name = \"Anoop\")\n"
   ]
  },
  {
   "cell_type": "code",
   "execution_count": 1,
   "id": "6dce2bd6",
   "metadata": {},
   "outputs": [
    {
     "name": "stdout",
     "output_type": "stream",
     "text": [
      "25 Data Science Anoop\n"
     ]
    }
   ],
   "source": [
    "def student_details(name, age, course):\n",
    "    print(age, course, name)\n",
    "\n",
    "student_details(name=\"Anoop\", age=25, course = \"Data Science\")"
   ]
  },
  {
   "cell_type": "code",
   "execution_count": 2,
   "id": "c4723c29",
   "metadata": {},
   "outputs": [
    {
     "name": "stdout",
     "output_type": "stream",
     "text": [
      "12\n",
      "15\n"
     ]
    }
   ],
   "source": [
    "def add_all(*args):\n",
    "    total = 0\n",
    "    for num in args:\n",
    "        total += num\n",
    "    return total\n",
    "\n",
    "print(add_all(2,4,6))\n",
    "print(add_all(1,2,3,4,5))"
   ]
  },
  {
   "cell_type": "code",
   "execution_count": 4,
   "id": "93ff9829",
   "metadata": {},
   "outputs": [
    {
     "name": "stdout",
     "output_type": "stream",
     "text": [
      "24\n"
     ]
    }
   ],
   "source": [
    "def multiply_all(*args):\n",
    "    total = 1\n",
    "    for num in args:\n",
    "        total *= num\n",
    "    return total\n",
    "\n",
    "print(multiply_all(2,3,4))"
   ]
  },
  {
   "cell_type": "code",
   "execution_count": 5,
   "id": "6719d0de",
   "metadata": {},
   "outputs": [
    {
     "name": "stdout",
     "output_type": "stream",
     "text": [
      "name:Anoop\n",
      "age:25\n",
      "course:Data science\n"
     ]
    }
   ],
   "source": [
    "def show_info(**kwargs):\n",
    "    for key, value in kwargs.items():\n",
    "        print(f\"{key}:{value}\")\n",
    "\n",
    "show_info(name=\"Anoop\", age = 25, course=\"Data science\")"
   ]
  },
  {
   "cell_type": "markdown",
   "id": "cc5d0e04",
   "metadata": {},
   "source": [
    " # Nested Condition"
   ]
  },
  {
   "cell_type": "code",
   "execution_count": 8,
   "id": "21cf0573",
   "metadata": {},
   "outputs": [
    {
     "name": "stdout",
     "output_type": "stream",
     "text": [
      "positive and Even\n"
     ]
    }
   ],
   "source": [
    "num = 10\n",
    "\n",
    "if num > 0:\n",
    "    if num %2 == 0:\n",
    "        print(\"positive and Even\")\n",
    "    else:\n",
    "        print(\"Positive but odd\")\n",
    "else:\n",
    "    print(\"Not positive\")"
   ]
  },
  {
   "cell_type": "code",
   "execution_count": 11,
   "id": "7bc8d706",
   "metadata": {},
   "outputs": [
    {
     "name": "stdout",
     "output_type": "stream",
     "text": [
      "positive and divisible by 3\n"
     ]
    }
   ],
   "source": [
    "num = int(input(\"Enter a number\"))\n",
    "\n",
    "if num > 0:\n",
    "    if num %3 == 0:\n",
    "        print(\"positive and divisible by 3\")\n",
    "    else:\n",
    "        print(\"Positive but not divisible by 3\")\n",
    "else:\n",
    "    print(\"Not positive\")"
   ]
  },
  {
   "cell_type": "markdown",
   "id": "a6ded638",
   "metadata": {},
   "source": [
    "# Nested loop"
   ]
  },
  {
   "cell_type": "code",
   "execution_count": 12,
   "id": "ccedd457",
   "metadata": {},
   "outputs": [
    {
     "name": "stdout",
     "output_type": "stream",
     "text": [
      "0 0\n",
      "0 1\n",
      "1 0\n",
      "1 1\n",
      "2 0\n",
      "2 1\n"
     ]
    }
   ],
   "source": [
    "for i in range(3):\n",
    "    for j in range(2):\n",
    "        print(i, j)"
   ]
  },
  {
   "cell_type": "code",
   "execution_count": 19,
   "id": "b8a740f4",
   "metadata": {},
   "outputs": [
    {
     "name": "stdout",
     "output_type": "stream",
     "text": [
      "* * * \n",
      "* * * \n",
      "* * * \n"
     ]
    }
   ],
   "source": [
    "for i in range(3):\n",
    "    for j in range(3):\n",
    "        print(\"*\", end = \" \")\n",
    "    print()\n",
    "    "
   ]
  },
  {
   "cell_type": "code",
   "execution_count": 23,
   "id": "a26cc4c5",
   "metadata": {},
   "outputs": [
    {
     "name": "stdout",
     "output_type": "stream",
     "text": [
      "* \n",
      "* * \n",
      "* * * \n"
     ]
    }
   ],
   "source": [
    "for i in range(1, 4):\n",
    "    for j in range(i):\n",
    "        print(\"*\", end = \" \")\n",
    "    print()"
   ]
  },
  {
   "cell_type": "code",
   "execution_count": 32,
   "id": "0d54653c",
   "metadata": {},
   "outputs": [
    {
     "name": "stdout",
     "output_type": "stream",
     "text": [
      "1 \n",
      "1 2 \n",
      "1 2 3 \n"
     ]
    }
   ],
   "source": [
    "for i in range(1,4):\n",
    "    for j in range(i):\n",
    "        print(j+1,  end=\" \")\n",
    "    print()"
   ]
  },
  {
   "cell_type": "code",
   "execution_count": 36,
   "id": "c15eace2",
   "metadata": {},
   "outputs": [
    {
     "name": "stdout",
     "output_type": "stream",
     "text": [
      "1 \n",
      "1 2 \n",
      "1 2 3 \n"
     ]
    }
   ],
   "source": [
    "for i in range(1, 4):\n",
    "    for j in range(1,i+1):\n",
    "        print(j, end=\" \")\n",
    "    print()\n"
   ]
  },
  {
   "cell_type": "code",
   "execution_count": 46,
   "id": "fd0c406b",
   "metadata": {},
   "outputs": [
    {
     "name": "stdout",
     "output_type": "stream",
     "text": [
      "1 2 3 \n",
      "1 2 \n",
      "1 \n"
     ]
    }
   ],
   "source": [
    "for i in range(3, 0, -1):\n",
    "    for j in range(1,i+1):\n",
    "        print(j, end=\" \")\n",
    "    print()\n"
   ]
  },
  {
   "cell_type": "code",
   "execution_count": 47,
   "id": "093ad900",
   "metadata": {},
   "outputs": [
    {
     "name": "stdout",
     "output_type": "stream",
     "text": [
      "* * * \n",
      "* * \n",
      "* \n"
     ]
    }
   ],
   "source": [
    "for i in range(3, 0, -1):\n",
    "    for j in range(1,i+1):\n",
    "        print(\"*\", end=\" \")\n",
    "    print()"
   ]
  },
  {
   "cell_type": "code",
   "execution_count": 48,
   "id": "449cd26e",
   "metadata": {},
   "outputs": [
    {
     "name": "stdout",
     "output_type": "stream",
     "text": [
      "0 0\n",
      "0 1\n",
      "0 2\n",
      "1 0\n",
      "1 1\n",
      "1 2\n"
     ]
    }
   ],
   "source": [
    "for i in range(2):\n",
    "    for j in range(3):\n",
    "        print(i, j)"
   ]
  },
  {
   "cell_type": "code",
   "execution_count": 49,
   "id": "6fe38ef4",
   "metadata": {},
   "outputs": [
    {
     "name": "stdout",
     "output_type": "stream",
     "text": [
      "10 20 \n",
      "30 40 \n",
      "50 60 \n"
     ]
    }
   ],
   "source": [
    "matrix = [\n",
    "    [10, 20],\n",
    "    [30, 40],\n",
    "    [50, 60]\n",
    "]\n",
    "\n",
    "for row in matrix:\n",
    "    for item in row:\n",
    "        print(item, end=\" \")\n",
    "    print()"
   ]
  },
  {
   "cell_type": "code",
   "execution_count": 51,
   "id": "fb982512",
   "metadata": {},
   "outputs": [
    {
     "name": "stdout",
     "output_type": "stream",
     "text": [
      "Row1 sum: 30\n",
      "Row2 sum: 70\n",
      "Row3 sum: 110\n"
     ]
    }
   ],
   "source": [
    "matrix = [\n",
    "    [10, 20],\n",
    "    [30, 40],\n",
    "    [50, 60]\n",
    "]\n",
    "\n",
    "row_number = 1\n",
    "for row in matrix:\n",
    "    total = sum(row)\n",
    "    print(f\"Row{row_number} sum:\",total)\n",
    "    row_number += 1"
   ]
  },
  {
   "cell_type": "code",
   "execution_count": 54,
   "id": "60adb1d9",
   "metadata": {},
   "outputs": [
    {
     "name": "stdout",
     "output_type": "stream",
     "text": [
      "\n",
      "1\n",
      "12\n",
      "123\n",
      "1234"
     ]
    }
   ],
   "source": [
    "for i in range(1, 5):\n",
    "    print()\n",
    "    for j in range(1, i+1):\n",
    "        print(j, end=\"\")"
   ]
  },
  {
   "cell_type": "code",
   "execution_count": 55,
   "id": "38b63390",
   "metadata": {},
   "outputs": [
    {
     "name": "stdout",
     "output_type": "stream",
     "text": [
      "120\n"
     ]
    }
   ],
   "source": [
    "def factorial(n):\n",
    "     if n==1:\n",
    "        return 1\n",
    "     else:\n",
    "         return n*factorial(n-1)\n",
    "     \n",
    "print(factorial(5))"
   ]
  },
  {
   "cell_type": "code",
   "execution_count": 56,
   "id": "796c531c",
   "metadata": {},
   "outputs": [
    {
     "name": "stdout",
     "output_type": "stream",
     "text": [
      "* \n",
      "* * \n",
      "* * * \n",
      "* * * * \n"
     ]
    }
   ],
   "source": [
    "for i in range(1, 5):\n",
    "    for j in range(i):\n",
    "        print(\"*\", end= \" \")\n",
    "    print()"
   ]
  },
  {
   "cell_type": "code",
   "execution_count": 57,
   "id": "ea8657f2",
   "metadata": {},
   "outputs": [
    {
     "name": "stdout",
     "output_type": "stream",
     "text": [
      "      * \n",
      "    * * \n",
      "  * * * \n",
      "* * * * \n"
     ]
    }
   ],
   "source": [
    "n = 4\n",
    "for i in range(1, n+1):              # rows 1 to 4\n",
    "    for space in range(n - i):       # print spaces\n",
    "        print(\" \", end=\" \")\n",
    "    for star in range(i):            # print stars\n",
    "        print(\"*\", end=\" \")\n",
    "    print()                          # new line\n"
   ]
  },
  {
   "cell_type": "code",
   "execution_count": null,
   "id": "14269eee",
   "metadata": {},
   "outputs": [
    {
     "name": "stdout",
     "output_type": "stream",
     "text": [
      "None\n"
     ]
    }
   ],
   "source": [
    "def find_max(arr):\n",
    "    if not arr:\n",
    "        return None\n",
    "    \n",
    "    max_element = arr[0]\n",
    "\n",
    "    for num in arr:\n",
    "        if num > max_element:\n",
    "            max_element = num\n",
    "    return max_element\n",
    "\n",
    "\n",
    "arr = [3,7,2,9,1]\n",
    "result = find_max(arr)\n",
    "print(result)\n"
   ]
  },
  {
   "cell_type": "code",
   "execution_count": 65,
   "id": "4d5420d7",
   "metadata": {},
   "outputs": [
    {
     "name": "stdout",
     "output_type": "stream",
     "text": [
      "None\n"
     ]
    }
   ],
   "source": [
    "def second_largest(arr):\n",
    "    if len(arr) < 2:\n",
    "        return None\n",
    "    \n",
    "    max1 = max2 = float('-inf')\n",
    "\n",
    "    for num in arr:\n",
    "        if num > max1:\n",
    "            max2 = max1\n",
    "            max1 = num\n",
    "        elif num > max2 and num != max1:\n",
    "            max2 = num\n",
    "\n",
    "    return max2 if max2 != float('-inf') else None\n",
    "\n",
    "arr = [5,5,5]\n",
    "result = second_largest(arr)\n",
    "print(result)\n"
   ]
  },
  {
   "cell_type": "markdown",
   "id": "c998ccbe",
   "metadata": {},
   "source": [
    "# OOPs(Object Oriented Programming)"
   ]
  },
  {
   "cell_type": "code",
   "execution_count": 67,
   "id": "3e14acc0",
   "metadata": {},
   "outputs": [
    {
     "name": "stdout",
     "output_type": "stream",
     "text": [
      "Name: Iphone\n",
      "Model: 15promax\n"
     ]
    }
   ],
   "source": [
    "class phone:\n",
    "    def __init__(self, name, model):\n",
    "        self.name = name\n",
    "        self.model = model\n",
    "\n",
    "    def smartphone(self):\n",
    "        print(\"Name:\", self.name)\n",
    "        print(\"Model:\", self.model)\n",
    "\n",
    "s = phone(\"Iphone\", \"15promax\")\n",
    "s.smartphone()\n"
   ]
  },
  {
   "cell_type": "code",
   "execution_count": 75,
   "id": "d70a1503",
   "metadata": {},
   "outputs": [
    {
     "name": "stdout",
     "output_type": "stream",
     "text": [
      "The BMW is driving of made Year 2020\n"
     ]
    }
   ],
   "source": [
    "class car:\n",
    "    def __init__(self, brand, year):\n",
    "        self.brand = brand\n",
    "        self.year = year\n",
    "\n",
    "    def drive(self):\n",
    "        print(f\"The {self.brand} is driving of made Year {self.year}\")\n",
    "\n",
    "my_car = car(\"BMW\", 2020)\n",
    "my_car.drive()"
   ]
  },
  {
   "cell_type": "code",
   "execution_count": 77,
   "id": "0c8e4580",
   "metadata": {},
   "outputs": [
    {
     "name": "stdout",
     "output_type": "stream",
     "text": [
      "Student Anoop has scored 95\n"
     ]
    }
   ],
   "source": [
    "class student:\n",
    "    def __init__(self, name, grade):\n",
    "        self.name = name\n",
    "        self.grade = grade\n",
    "\n",
    "    def display(self):\n",
    "        print(f\"Student {self.name} has scored {self.grade}\")\n",
    "\n",
    "s1 = student(\"Anoop\", 95)\n",
    "s1.display()\n"
   ]
  },
  {
   "cell_type": "markdown",
   "id": "5aa3aae9",
   "metadata": {},
   "source": [
    "# Using Node"
   ]
  },
  {
   "cell_type": "code",
   "execution_count": 82,
   "id": "6144d729",
   "metadata": {},
   "outputs": [
    {
     "name": "stdout",
     "output_type": "stream",
     "text": [
      "10\n",
      "20\n",
      "30\n"
     ]
    }
   ],
   "source": [
    "class Node:\n",
    "    def __init__(self, data):\n",
    "        self.data = data\n",
    "        self.next = None\n",
    "\n",
    "node1 = Node(10)\n",
    "node2 = Node(20)\n",
    "node3 = Node(30)\n",
    "\n",
    "node1.next = node2\n",
    "node2.next = node3\n",
    "\n",
    "print(node1.data)\n",
    "print(node1.next.data)\n",
    "print(node1.next.next.data)\n"
   ]
  },
  {
   "cell_type": "code",
   "execution_count": 3,
   "id": "16e19e2e",
   "metadata": {},
   "outputs": [
    {
     "name": "stdout",
     "output_type": "stream",
     "text": [
      "3->2->1->"
     ]
    }
   ],
   "source": [
    "# Reverse a Linked list\n",
    "\n",
    "# step 1: Define the Node\n",
    "class Node:\n",
    "    def __init__(self, val):\n",
    "        self.val = val\n",
    "        self.next = None\n",
    "\n",
    "# step 2: Write Reverse Function\n",
    "def reverse_linked_list(head):\n",
    "    prev  = None\n",
    "    current = head\n",
    "\n",
    "    while current:\n",
    "        next_node = current.next\n",
    "        current.next = prev\n",
    "        prev = current\n",
    "        current = next_node\n",
    "        \n",
    "    return prev\n",
    "    \n",
    "# step 3: Create Linked List and test\n",
    "# Create  nodes\n",
    "\n",
    "node1 = Node(1)\n",
    "node2 = Node(2)\n",
    "node3 = Node(3)\n",
    "node1.next = node2\n",
    "node2.next = node3\n",
    "\n",
    "# Reverse it\n",
    "new_head = reverse_linked_list(node1)\n",
    "\n",
    "# print reversed list\n",
    "while new_head:\n",
    "    print(new_head.val, end=\"->\")\n",
    "    new_head = new_head.next"
   ]
  },
  {
   "cell_type": "code",
   "execution_count": null,
   "id": "ef1e5340",
   "metadata": {},
   "outputs": [],
   "source": []
  }
 ],
 "metadata": {
  "kernelspec": {
   "display_name": "base",
   "language": "python",
   "name": "python3"
  },
  "language_info": {
   "codemirror_mode": {
    "name": "ipython",
    "version": 3
   },
   "file_extension": ".py",
   "mimetype": "text/x-python",
   "name": "python",
   "nbconvert_exporter": "python",
   "pygments_lexer": "ipython3",
   "version": "3.10.9"
  }
 },
 "nbformat": 4,
 "nbformat_minor": 5
}
